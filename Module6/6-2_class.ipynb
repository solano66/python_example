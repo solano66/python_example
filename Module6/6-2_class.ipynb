{
 "cells": [
  {
   "cell_type": "markdown",
   "metadata": {},
   "source": [
    "##### Class 設計"
   ]
  },
  {
   "cell_type": "code",
   "execution_count": null,
   "metadata": {},
   "outputs": [
    {
     "name": "stdout",
     "output_type": "stream",
     "text": [
      "[{'id': 100, 'survived': Decimal('0.00'), 'pclass': Decimal('2.00'), 'name': 'Kantor, Mr. Sinai', 'sex': 'male', 'age': Decimal('34.00'), 'sibsp': 1, 'parch': 0, 'cabin': None, 'ticketId': 97, 'portId': 1}, {'id': 317, 'survived': Decimal('1.00'), 'pclass': Decimal('2.00'), 'name': 'Kantor, Mrs. Sinai (Miriam Sternin)', 'sex': 'female', 'age': Decimal('24.00'), 'sibsp': 1, 'parch': 0, 'cabin': None, 'ticketId': 97, 'portId': 1}]\n"
     ]
    }
   ],
   "source": [
    "import pymysql\n",
    "import pymysql.cursors\n",
    "\n",
    "class SqlQuery:\n",
    "    def __init__(self, database=None):\n",
    "        self.connection = pymysql.connect(\n",
    "            host=\"localhost\",\n",
    "            user=\"root\",\n",
    "            password=\"P@ssw0rd\",\n",
    "            port=3306,\n",
    "            database=database,\n",
    "            cursorclass=pymysql.cursors.DictCursor\n",
    "        )\n",
    "\n",
    "    def show_db(self):\n",
    "        with self.connection.cursor() as cursor:\n",
    "            sql = \"SHOW DATABASES;\"\n",
    "            cursor.execute(sql)\n",
    "            result = cursor.fetchall()\n",
    "        \n",
    "        return result\n",
    "    \n",
    "    def show_table(self):\n",
    "        with self.connection.cursor() as cursor:\n",
    "            sql = \"SHOW TABLES;\"\n",
    "            cursor.execute(sql)\n",
    "            result = cursor.fetchall()\n",
    "        \n",
    "        return result\n",
    "    \n",
    "    def query(self, sql):\n",
    "        with self.connection.cursor() as cursor:\n",
    "            cursor.execute(sql)\n",
    "            result = cursor.fetchall()\n",
    "        \n",
    "        return result\n",
    "\n",
    "\n",
    "q1 = SqlQuery()\n",
    "db = q1.show_db()\n",
    "# print(db)\n",
    "\n",
    "my_train_titanic_q = SqlQuery(\"my_train_titanic\")\n",
    "tables = my_train_titanic_q.show_table()\n",
    "# print(tables)\n",
    "print(my_train_titanic_q.query(\"\"\"\n",
    "    SELECT * FROM passengers\n",
    "    WHERE name like '%Kantor%';\n",
    "    \"\"\"))\n"
   ]
  },
  {
   "cell_type": "code",
   "execution_count": null,
   "metadata": {},
   "outputs": [],
   "source": []
  },
  {
   "cell_type": "markdown",
   "metadata": {},
   "source": [
    "##### 繼承"
   ]
  },
  {
   "cell_type": "code",
   "execution_count": null,
   "metadata": {},
   "outputs": [],
   "source": []
  }
 ],
 "metadata": {
  "kernelspec": {
   "display_name": "Python 3",
   "language": "python",
   "name": "python3"
  },
  "language_info": {
   "codemirror_mode": {
    "name": "ipython",
    "version": 3
   },
   "file_extension": ".py",
   "mimetype": "text/x-python",
   "name": "python",
   "nbconvert_exporter": "python",
   "pygments_lexer": "ipython3",
   "version": "3.13.0"
  }
 },
 "nbformat": 4,
 "nbformat_minor": 2
}
