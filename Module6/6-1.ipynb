{
 "cells": [
  {
   "cell_type": "code",
   "execution_count": 4,
   "metadata": {},
   "outputs": [
    {
     "name": "stdout",
     "output_type": "stream",
     "text": [
      "4\n"
     ]
    }
   ],
   "source": [
    "# 類別名稱\n",
    "class Car:\n",
    "# 類別屬性 (Class Attribute)\n",
    "    wheels = 4\n",
    "\n",
    "print(Car.wheels)\n",
    "\n"
   ]
  },
  {
   "cell_type": "code",
   "execution_count": null,
   "metadata": {},
   "outputs": [
    {
     "name": "stdout",
     "output_type": "stream",
     "text": [
      "(Toyota)\n",
      "CAMRY\n",
      "OK\n",
      "The (Toyota) has 4 wheels.\n",
      "855000.0\n",
      "OK\n",
      "The (Benz) has 4 wheels.\n",
      "247500.0\n",
      "OK\n"
     ]
    }
   ],
   "source": [
    "# 類別名稱\n",
    "class Car:\n",
    "# 類別屬性 (Class Attribute)\n",
    "    wheels = 4\n",
    "\n",
    "    #建構函式\n",
    "    def __init__(self, brand, model, price):\n",
    "        self.brand = f\"({brand})\"\n",
    "        self.model = model\n",
    "        self.price = price\n",
    "\n",
    "# 方法 (Method)\n",
    "    def get_info(self):\n",
    "        print(\"OK\")\n",
    "        return f\"The {self.brand} has {Car.wheels} wheels.\"\n",
    "    \n",
    "    def get_discount_price(self, discount):\n",
    "        discount_price = self.price * discount\n",
    "        return discount_price\n",
    "    \n",
    "    @staticmethod\n",
    "    def test():\n",
    "        print(\"OK\")\n",
    "\n",
    "totoya_car = Car(\"Toyota\", \"CAMRY\", 900000)\n",
    "print(totoya_car.brand)\n",
    "print(totoya_car.model)\n",
    "\n",
    "print(totoya_car.get_info())\n",
    "print(totoya_car.get_discount_price(0.95))\n",
    "\n",
    "benz_car = Car(\"Benz\", \"C300\", 250000)\n",
    "print(benz_car.get_info())\n",
    "print(benz_car.get_discount_price(0.99))\n",
    "\n",
    "benz_car.test()\n"
   ]
  }
 ],
 "metadata": {
  "kernelspec": {
   "display_name": "Python 3",
   "language": "python",
   "name": "python3"
  },
  "language_info": {
   "codemirror_mode": {
    "name": "ipython",
    "version": 3
   },
   "file_extension": ".py",
   "mimetype": "text/x-python",
   "name": "python",
   "nbconvert_exporter": "python",
   "pygments_lexer": "ipython3",
   "version": "3.13.0"
  }
 },
 "nbformat": 4,
 "nbformat_minor": 2
}
