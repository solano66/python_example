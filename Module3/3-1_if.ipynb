{
 "cells": [
  {
   "cell_type": "markdown",
   "metadata": {},
   "source": [
    "條件語句 if-elif-else"
   ]
  },
  {
   "cell_type": "code",
   "execution_count": null,
   "metadata": {},
   "outputs": [],
   "source": [
    "'''\n",
    "條件判斷\n",
    "if ...\n",
    "if ... else ...\n",
    "if ... elif ... else ...\n",
    "\n",
    "'''"
   ]
  },
  {
   "cell_type": "markdown",
   "metadata": {},
   "source": [
    "##### if"
   ]
  },
  {
   "cell_type": "code",
   "execution_count": 1,
   "metadata": {},
   "outputs": [
    {
     "name": "stdout",
     "output_type": "stream",
     "text": [
      "num > 5\n"
     ]
    }
   ],
   "source": [
    "num = 10\n",
    "\n",
    "if num > 5:\n",
    "    print(\"num > 5\")"
   ]
  },
  {
   "cell_type": "markdown",
   "metadata": {},
   "source": [
    "##### if...else..."
   ]
  },
  {
   "cell_type": "code",
   "execution_count": 2,
   "metadata": {},
   "outputs": [
    {
     "name": "stdout",
     "output_type": "stream",
     "text": [
      "num < 5\n"
     ]
    }
   ],
   "source": [
    "num = 3\n",
    "\n",
    "if num > 5:\n",
    "    print(\"num > 5\")\n",
    "else:\n",
    "    print(\"num < 5\")    "
   ]
  },
  {
   "cell_type": "markdown",
   "metadata": {},
   "source": [
    "##### if...elif... (else)"
   ]
  },
  {
   "cell_type": "code",
   "execution_count": 7,
   "metadata": {},
   "outputs": [
    {
     "name": "stdout",
     "output_type": "stream",
     "text": [
      "name = Andy\n",
      "OK\n"
     ]
    }
   ],
   "source": [
    "num = 20\n",
    "name = \"Andy\"\n",
    "\n",
    "if num == 10:\n",
    "    print(\"num == 10\")\n",
    "elif name == \"Andy\":\n",
    "    print(\"name = Andy\")\n",
    "elif num == 20:\n",
    "    print(\"num == 20\")\n",
    "else:\n",
    "    print(\"All False\")\n",
    "\n",
    "if num == 10 or 'A' in name:\n",
    "    print(\"OK\")"
   ]
  }
 ],
 "metadata": {
  "kernelspec": {
   "display_name": "Python 3",
   "language": "python",
   "name": "python3"
  },
  "language_info": {
   "codemirror_mode": {
    "name": "ipython",
    "version": 3
   },
   "file_extension": ".py",
   "mimetype": "text/x-python",
   "name": "python",
   "nbconvert_exporter": "python",
   "pygments_lexer": "ipython3",
   "version": "3.13.0"
  }
 },
 "nbformat": 4,
 "nbformat_minor": 2
}
