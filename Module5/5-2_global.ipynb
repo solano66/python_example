{
 "cells": [
  {
   "cell_type": "code",
   "execution_count": 1,
   "metadata": {},
   "outputs": [
    {
     "name": "stdout",
     "output_type": "stream",
     "text": [
      "Jarvis\n",
      "Bill\n"
     ]
    }
   ],
   "source": [
    "# 全域變數\n",
    "name = \"Bill\"\n",
    "\n",
    "# 定義函式\n",
    "def get_name():\n",
    "    name = \"Jarvis\"\n",
    "    return name\n",
    "# 執行函式\n",
    "print(get_name())\n",
    "\n",
    "# 輸出 name\n",
    "print(name)\n"
   ]
  },
  {
   "cell_type": "markdown",
   "metadata": {},
   "source": [
    "##### 使用 global 讓函式存取全域變數的值"
   ]
  },
  {
   "cell_type": "code",
   "execution_count": 2,
   "metadata": {},
   "outputs": [
    {
     "name": "stdout",
     "output_type": "stream",
     "text": [
      "Jarvis\n",
      "Jarvis\n"
     ]
    }
   ],
   "source": [
    "# 全域變數\n",
    "name = \"Bill\"\n",
    "\n",
    "# 定義函式\n",
    "def get_name():\n",
    "    # global name = \"Jarvis\"  錯誤寫法，一定要先呼叫\n",
    "    global name\n",
    "    name = \"Jarvis\"\n",
    "    return name\n",
    "# 執行函式\n",
    "print(get_name())\n",
    "\n",
    "# 輸出 name\n",
    "print(name)"
   ]
  }
 ],
 "metadata": {
  "kernelspec": {
   "display_name": "Python 3",
   "language": "python",
   "name": "python3"
  },
  "language_info": {
   "codemirror_mode": {
    "name": "ipython",
    "version": 3
   },
   "file_extension": ".py",
   "mimetype": "text/x-python",
   "name": "python",
   "nbconvert_exporter": "python",
   "pygments_lexer": "ipython3",
   "version": "3.13.0"
  }
 },
 "nbformat": 4,
 "nbformat_minor": 2
}
