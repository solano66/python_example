{
 "cells": [
  {
   "cell_type": "markdown",
   "metadata": {},
   "source": [
    "### lambda 匿名函式  \n",
    "用法  \n",
    "\n",
    "`functuin_name = lambda arguments: expression`"
   ]
  },
  {
   "cell_type": "code",
   "execution_count": 3,
   "metadata": {},
   "outputs": [
    {
     "name": "stdout",
     "output_type": "stream",
     "text": [
      "50\n"
     ]
    }
   ],
   "source": [
    "# 建立函式\n",
    "def times1(x, y):\n",
    "    return (x*y)\n",
    "\n",
    "print(times1(5, 10))"
   ]
  },
  {
   "cell_type": "code",
   "execution_count": null,
   "metadata": {},
   "outputs": [
    {
     "name": "stdout",
     "output_type": "stream",
     "text": [
      "50\n"
     ]
    }
   ],
   "source": [
    "# 基本用法\n",
    "times2 = lambda x,y: x*y  #參數:code\n",
    "print(times2(5, 10))\n"
   ]
  },
  {
   "cell_type": "code",
   "execution_count": 6,
   "metadata": {},
   "outputs": [
    {
     "name": "stdout",
     "output_type": "stream",
     "text": [
      "True\n",
      "False\n"
     ]
    }
   ],
   "source": [
    "# 條件判斷\n",
    "def check_even1(x):\n",
    "    if x % 2 == 0:\n",
    "        return True\n",
    "    else:\n",
    "        return False\n",
    "\n",
    "print(check_even1(4))\n",
    "print(check_even1(5))\n"
   ]
  },
  {
   "cell_type": "code",
   "execution_count": 7,
   "metadata": {},
   "outputs": [
    {
     "name": "stdout",
     "output_type": "stream",
     "text": [
      "True\n",
      "False\n"
     ]
    }
   ],
   "source": [
    "check_even2 = lambda x: True if x%2 == 0 else False\n",
    "print(check_even2(4))\n",
    "print(check_even2(5))"
   ]
  },
  {
   "cell_type": "markdown",
   "metadata": {},
   "source": [
    "### 小試身手  \n",
    "請建立一個 list ，並在該 list 內產生多個 `[1, 2, x]` 的 list (x 的值要遞增)  \n",
    "x 到 10 即可  \n",
    "Ex :  \n",
    "```Python\n",
    "[ [1, 2, 1], [1, 2, 2], [1, 2, 3]...[1, 2, 10] ]\n",
    "```"
   ]
  },
  {
   "cell_type": "code",
   "execution_count": null,
   "metadata": {},
   "outputs": [
    {
     "name": "stdout",
     "output_type": "stream",
     "text": [
      "[[1, 2, 1], [1, 2, 2], [1, 2, 3], [1, 2, 4], [1, 2, 5], [1, 2, 6], [1, 2, 7], [1, 2, 8], [1, 2, 9], [1, 2, 10]]\n"
     ]
    }
   ],
   "source": [
    "outside_list = [[1, 2, i] for i in range(1,11)]\n",
    "print(outside_list)\n"
   ]
  },
  {
   "cell_type": "code",
   "execution_count": 14,
   "metadata": {},
   "outputs": [
    {
     "name": "stdout",
     "output_type": "stream",
     "text": [
      "[[1, 2, 1], [1, 2, 2], [1, 2, 3], [1, 2, 4], [1, 2, 5], [1, 2, 6], [1, 2, 7], [1, 2, 8], [1, 2, 9], [1, 2, 10]]\n"
     ]
    }
   ],
   "source": [
    "def get_list(x):\n",
    "    return [[1, 2, i] for i in range(1, x)]\n",
    "\n",
    "print(get_list(11))"
   ]
  },
  {
   "cell_type": "code",
   "execution_count": 17,
   "metadata": {},
   "outputs": [
    {
     "name": "stdout",
     "output_type": "stream",
     "text": [
      "[[1, 2, 1], [1, 2, 2], [1, 2, 3], [1, 2, 4], [1, 2, 5], [1, 2, 6], [1, 2, 7], [1, 2, 8], [1, 2, 9], [1, 2, 10]]\n"
     ]
    }
   ],
   "source": [
    "get_list2 = lambda x:[[1, 2, i] for i in range(1, x)]\n",
    "print(get_list2(11))"
   ]
  },
  {
   "cell_type": "markdown",
   "metadata": {},
   "source": [
    "##### `sort()` 方法"
   ]
  },
  {
   "cell_type": "code",
   "execution_count": 22,
   "metadata": {},
   "outputs": [
    {
     "name": "stdout",
     "output_type": "stream",
     "text": [
      "[[1, 2, 1], [1, 2, 2], [1, 2, 3], [1, 2, 4], [1, 2, 5], [1, 2, 6], [1, 2, 7], [1, 2, 8], [1, 2, 9], [1, 2, 10]]\n",
      "[[1, 2, 10], [1, 2, 9], [1, 2, 8], [1, 2, 7], [1, 2, 6], [1, 2, 5], [1, 2, 4], [1, 2, 3], [1, 2, 2], [1, 2, 1]]\n"
     ]
    }
   ],
   "source": [
    "outside_list = [[1, 2, i] for i in range(1,11)]\n",
    "print(outside_list)\n",
    "\n",
    "outside_list.sort(reverse=True)\n",
    "\n",
    "print(outside_list)"
   ]
  },
  {
   "cell_type": "markdown",
   "metadata": {},
   "source": [
    "每三個 list 中間的值要改成 5  \n",
    "Ex:  \n",
    "```python\n",
    "[ [1, 2, 1], [1, 2, 2], [1, 5, 3], [1, 2, 4], [1, 2, 5], [1, 5, 6]...]\n",
    "```"
   ]
  },
  {
   "cell_type": "code",
   "execution_count": 35,
   "metadata": {},
   "outputs": [
    {
     "name": "stdout",
     "output_type": "stream",
     "text": [
      "[[1, 2, 1], [1, 2, 2], [1, 5, 3], [1, 2, 4], [1, 2, 5], [1, 5, 6], [1, 2, 7], [1, 2, 8], [1, 5, 9], [1, 2, 10]]\n"
     ]
    }
   ],
   "source": [
    "outside_list = []\n",
    "for i in range(1, 11):\n",
    "    if i%3 != 0:\n",
    "        outside_list.append([1, 2, i])\n",
    "    else:\n",
    "        outside_list.append([1, 5, i])\n",
    "print(outside_list)"
   ]
  },
  {
   "cell_type": "code",
   "execution_count": 36,
   "metadata": {},
   "outputs": [
    {
     "name": "stdout",
     "output_type": "stream",
     "text": [
      "[[1, 2, 1], [1, 2, 2], [1, 5, 3], [1, 2, 4], [1, 2, 5], [1, 5, 6], [1, 2, 7], [1, 2, 8], [1, 5, 9], [1, 2, 10]]\n"
     ]
    }
   ],
   "source": [
    "special_list = [[1, 2, i] if i%3 !=0 else [1, 5, i] for i in range(1, 11)]\n",
    "print(outside_list)"
   ]
  },
  {
   "cell_type": "code",
   "execution_count": 34,
   "metadata": {},
   "outputs": [
    {
     "name": "stdout",
     "output_type": "stream",
     "text": [
      "[[1, 2, 1], [1, 2, 2], [1, 5, 3], [1, 2, 4], [1, 2, 5], [1, 5, 6], [1, 2, 7], [1, 2, 8], [1, 5, 9], [1, 2, 10]]\n"
     ]
    }
   ],
   "source": [
    "special_list.sort(key=lambda x: x[2])\n",
    "print(special_list)"
   ]
  }
 ],
 "metadata": {
  "kernelspec": {
   "display_name": "Python 3",
   "language": "python",
   "name": "python3"
  },
  "language_info": {
   "codemirror_mode": {
    "name": "ipython",
    "version": 3
   },
   "file_extension": ".py",
   "mimetype": "text/x-python",
   "name": "python",
   "nbconvert_exporter": "python",
   "pygments_lexer": "ipython3",
   "version": "3.13.0"
  }
 },
 "nbformat": 4,
 "nbformat_minor": 2
}
