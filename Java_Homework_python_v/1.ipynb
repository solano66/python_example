{
 "cells": [
  {
   "cell_type": "markdown",
   "metadata": {},
   "source": [
    "2. salary"
   ]
  },
  {
   "cell_type": "code",
   "execution_count": null,
   "metadata": {},
   "outputs": [
    {
     "name": "stdout",
     "output_type": "stream",
     "text": [
      "10875.0\n"
     ]
    }
   ],
   "source": [
    "worktime = 70\n",
    "hour_salary = 150\n",
    "bonus = [1.25, 1.5]\n",
    "time = [60, 80]\n",
    "\n",
    "if worktime <= time[0]:\n",
    "    month_salary = worktime * hour_salary\n",
    "elif worktime <= time[1]:\n",
    "    month_salary = time[0] * hour_salary + (worktime-time[0]) * hour_salary * bonus[0]\n",
    "else:\n",
    "    month_salary = time[0] * hour_salary + (time[1]-time[0]) * hour_salary * bonus[0] + (worktime-time[1]) * hour_salary * bonus[1]\n",
    "\n",
    "print(month_salary)"
   ]
  },
  {
   "cell_type": "markdown",
   "metadata": {},
   "source": [
    "3. Electricity"
   ]
  },
  {
   "cell_type": "code",
   "execution_count": null,
   "metadata": {},
   "outputs": [
    {
     "name": "stdout",
     "output_type": "stream",
     "text": [
      "1781.94\n"
     ]
    }
   ],
   "source": [
    "ele_gap = [120, 330, 500, 700, 1000]\n",
    "fee_gap = [1.63, 2.1, 2.89, 3.94, 4.6, 5.03]\n",
    "# ele_gap_business = [330, 700, 1500]\n",
    "# fee_gap_business = [2.12, 2.91, 3.44, 5.05]\n",
    "ele1 = 666\n",
    "ele2_business = 1333\n",
    "\n",
    "def calculate_fee(ele1, ele_gap, fee_gap):\n",
    "    fee = 0\n",
    "    prev_gap = 0  \n",
    "    for i, gap in enumerate(ele_gap):\n",
    "        if ele1 <= gap:\n",
    "            fee += (ele1 - prev_gap) * fee_gap[i]\n",
    "            return fee\n",
    "        fee += (gap - prev_gap) * fee_gap[i]\n",
    "        prev_gap = gap\n",
    "\n",
    "    fee += (ele1 - ele_gap[-1]) * fee_gap[-1]\n",
    "    return fee\n",
    "\n",
    "fee = calculate_fee(ele1, ele_gap, fee_gap)\n",
    "print(fee)"
   ]
  },
  {
   "cell_type": "markdown",
   "metadata": {},
   "source": [
    "4. LeapYear"
   ]
  },
  {
   "cell_type": "code",
   "execution_count": null,
   "metadata": {},
   "outputs": [
    {
     "name": "stdout",
     "output_type": "stream",
     "text": [
      "True\n"
     ]
    }
   ],
   "source": [
    "year = 1960\n",
    "leapyear = year % 400 == 0 or (year % 4 == 0 and year % 100 != 0)\n",
    "print(leapyear)"
   ]
  },
  {
   "cell_type": "markdown",
   "metadata": {},
   "source": [
    "5. refund"
   ]
  },
  {
   "cell_type": "code",
   "execution_count": null,
   "metadata": {},
   "outputs": [
    {
     "name": "stdout",
     "output_type": "stream",
     "text": [
      "3751\n",
      "[3, 1, 2, 1, 0, 0, 1]\n"
     ]
    }
   ],
   "source": [
    "cash = 8888\n",
    "fee = 5137\n",
    "print(cash - fee)\n",
    "money = [1000, 500, 100, 50, 10, 5, 1]\n",
    "amount = []\n",
    "\n",
    "if cash < fee:\n",
    "    print(\"金額不足\")\n",
    "elif cash == fee:\n",
    "    print(\"不必找零\")\n",
    "else:\n",
    "    after_cash = cash - fee\n",
    "    for i in money:\n",
    "        amount.append(after_cash // i)\n",
    "        after_cash -= i * (after_cash // i)\n",
    "\n",
    "print(amount)\n"
   ]
  }
 ],
 "metadata": {
  "kernelspec": {
   "display_name": "Python 3",
   "language": "python",
   "name": "python3"
  },
  "language_info": {
   "codemirror_mode": {
    "name": "ipython",
    "version": 3
   },
   "file_extension": ".py",
   "mimetype": "text/x-python",
   "name": "python",
   "nbconvert_exporter": "python",
   "pygments_lexer": "ipython3",
   "version": "3.13.0"
  }
 },
 "nbformat": 4,
 "nbformat_minor": 2
}
