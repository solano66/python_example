{
 "cells": [
  {
   "cell_type": "markdown",
   "metadata": {},
   "source": [
    "1. MaxMin"
   ]
  },
  {
   "cell_type": "code",
   "execution_count": 1,
   "metadata": {},
   "outputs": [
    {
     "name": "stdout",
     "output_type": "stream",
     "text": [
      "14\n",
      "3\n"
     ]
    }
   ],
   "source": [
    "a = [i for i in range(3, 15)]\n",
    "max_a = a[6]\n",
    "min_a = a[5]\n",
    "for i in a:\n",
    "    if i > max_a:\n",
    "        max_a = i\n",
    "    if i < min_a:\n",
    "        min_a = i\n",
    "\n",
    "print(max_a)\n",
    "print(min_a)"
   ]
  },
  {
   "cell_type": "markdown",
   "metadata": {},
   "source": [
    "2-1. Bubble sort"
   ]
  },
  {
   "cell_type": "code",
   "execution_count": 21,
   "metadata": {},
   "outputs": [
    {
     "name": "stdout",
     "output_type": "stream",
     "text": [
      "[1, 2, 3, 4, 5, 5, 6, 7, 8, 9]\n"
     ]
    }
   ],
   "source": [
    "a = [3, 5, 7, 1, 5, 4, 2, 9, 6, 8]\n",
    "for i in range(len(a)-1):\n",
    "    for j in range(len(a)-i-1):\n",
    "        if a[j] > a[j+1]:\n",
    "            a[j], a[j+1] = a[j+1], a[j]\n",
    "print(a)            \n"
   ]
  },
  {
   "cell_type": "markdown",
   "metadata": {},
   "source": [
    "2-2. Selection sort"
   ]
  },
  {
   "cell_type": "code",
   "execution_count": null,
   "metadata": {},
   "outputs": [
    {
     "name": "stdout",
     "output_type": "stream",
     "text": [
      "[1, 2, 3, 4, 5, 5, 6, 7, 8, 9]\n"
     ]
    }
   ],
   "source": [
    "a = [3, 5, 7, 1, 5, 4, 2, 9, 6, 8]\n",
    "\n",
    "for i in range(len(a)-1):\n",
    "    min_index = i\n",
    "    for j in range(i+1, len(a)):\n",
    "        if a[j] < a[min_index]:\n",
    "            min_index = j\n",
    "    a[i], a[min_index] = a[min_index], a[i] # 交換，多重賦值\n",
    "\n",
    "print(a)"
   ]
  },
  {
   "cell_type": "markdown",
   "metadata": {},
   "source": [
    "2-3. Insertion sort"
   ]
  },
  {
   "cell_type": "code",
   "execution_count": 22,
   "metadata": {},
   "outputs": [
    {
     "name": "stdout",
     "output_type": "stream",
     "text": [
      "[1, 2, 3, 4, 5, 5, 6, 7, 8, 9]\n"
     ]
    }
   ],
   "source": [
    "a = [3, 5, 7, 1, 5, 4, 2, 9, 6, 8]\n",
    "for i in range(1, len(a)):\n",
    "    min_index = i\n",
    "    min_num = a[i]\n",
    "    for j in range(i):\n",
    "        if a[i] < a[j]:\n",
    "            min_index = j\n",
    "            break\n",
    "    a.pop(i)\n",
    "    a.insert(min_index, min_num)\n",
    "\n",
    "print(a)"
   ]
  },
  {
   "cell_type": "markdown",
   "metadata": {},
   "source": [
    "3. Sales"
   ]
  },
  {
   "cell_type": "code",
   "execution_count": null,
   "metadata": {},
   "outputs": [
    {
     "name": "stdout",
     "output_type": "stream",
     "text": [
      "[2593, 3107, 3739]\n",
      "[1836, 1920, 1670, 2198, 1815]\n"
     ]
    }
   ],
   "source": [
    "sale = [[33, 32, 56, 45, 33], [77, 33, 68, 45, 23], [43, 55, 43, 67, 65]]\n",
    "price = [12, 16, 10, 14, 15]\n",
    "\n",
    "a = []\n",
    "for person in sale:\n",
    "    money = 0\n",
    "    for i in range(len(person)):\n",
    "        money += person[i]*price[i]\n",
    "    a.append(money)\n",
    "print(a)\n",
    "\n",
    "c = []\n",
    "for i, p in enumerate(price):\n",
    "    product_sale = 0\n",
    "    for j, s in enumerate(sale):\n",
    "        product_sale += sale[j][i] * p\n",
    "    c.append(product_sale)\n",
    "print(c)"
   ]
  }
 ],
 "metadata": {
  "kernelspec": {
   "display_name": "Python 3",
   "language": "python",
   "name": "python3"
  },
  "language_info": {
   "codemirror_mode": {
    "name": "ipython",
    "version": 3
   },
   "file_extension": ".py",
   "mimetype": "text/x-python",
   "name": "python",
   "nbconvert_exporter": "python",
   "pygments_lexer": "ipython3",
   "version": "3.13.0"
  }
 },
 "nbformat": 4,
 "nbformat_minor": 2
}
