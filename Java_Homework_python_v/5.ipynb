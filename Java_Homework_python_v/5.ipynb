{
 "cells": [
  {
   "cell_type": "markdown",
   "metadata": {},
   "source": [
    "3. Stcak"
   ]
  },
  {
   "cell_type": "code",
   "execution_count": 13,
   "metadata": {},
   "outputs": [
    {
     "name": "stdout",
     "output_type": "stream",
     "text": [
      "滿了\n",
      "[5, 5, 5, 5, 5]\n"
     ]
    }
   ],
   "source": [
    "\n",
    "max_length = 5\n",
    "try:\n",
    "    if len(the_stack) < 5:\n",
    "        the_stack.append(5)\n",
    "    if len(the_stack) >= 5:\n",
    "        raise IndexError\n",
    "except IndexError:\n",
    "    print(\"滿了\")\n",
    "\n",
    "print(the_stack)\n"
   ]
  },
  {
   "cell_type": "code",
   "execution_count": 20,
   "metadata": {},
   "outputs": [
    {
     "name": "stdout",
     "output_type": "stream",
     "text": [
      "空了\n",
      "[]\n"
     ]
    }
   ],
   "source": [
    "max_length = 5\n",
    "try:\n",
    "    if len(the_stack) > 0:\n",
    "        the_stack.pop(-0)\n",
    "    if len(the_stack) == 0:\n",
    "        raise IndexError\n",
    "except IndexError:\n",
    "    print(\"空了\")\n",
    "\n",
    "print(the_stack)"
   ]
  }
 ],
 "metadata": {
  "kernelspec": {
   "display_name": "Python 3",
   "language": "python",
   "name": "python3"
  },
  "language_info": {
   "codemirror_mode": {
    "name": "ipython",
    "version": 3
   },
   "file_extension": ".py",
   "mimetype": "text/x-python",
   "name": "python",
   "nbconvert_exporter": "python",
   "pygments_lexer": "ipython3",
   "version": "3.13.0"
  }
 },
 "nbformat": 4,
 "nbformat_minor": 2
}
