{
 "cells": [
  {
   "cell_type": "markdown",
   "metadata": {},
   "source": [
    "1. CheckID"
   ]
  },
  {
   "cell_type": "code",
   "execution_count": 14,
   "metadata": {},
   "outputs": [
    {
     "name": "stdout",
     "output_type": "stream",
     "text": [
      "False\n"
     ]
    }
   ],
   "source": [
    "import re\n",
    "\n",
    "isID = False\n",
    "theID = \"A123456789\"\n",
    "\n",
    "thepattern = r'^[A-Z][1289]\\d{8}'\n",
    "if not re.fullmatch(thepattern, theID):\n",
    "    isID = False\n",
    "\n",
    "print(isID)\n"
   ]
  },
  {
   "cell_type": "markdown",
   "metadata": {},
   "source": [
    "2. Verifer"
   ]
  },
  {
   "cell_type": "code",
   "execution_count": 21,
   "metadata": {},
   "outputs": [
    {
     "name": "stdout",
     "output_type": "stream",
     "text": [
      "[0, 8, 5, 1]\n",
      "[3, 9, 5, 8]\n",
      "['X', 'q', '6', 'f', 'e', 'D']\n"
     ]
    }
   ],
   "source": [
    "import random\n",
    "\n",
    "num = [random.randint(0, 9) for i in range(4)]\n",
    "print(num)\n",
    "\n",
    "num = []\n",
    "while len(num) < 4:\n",
    "    rand_num = random.randint(0, 9)\n",
    "    if rand_num not in num:\n",
    "        num.append(rand_num)\n",
    "\n",
    "print(num)\n",
    "\n",
    "import string\n",
    "chars = [random.choice(string.ascii_letters + string.digits) for _ in range(6)]\n",
    "print(chars)\n",
    "\n"
   ]
  },
  {
   "cell_type": "markdown",
   "metadata": {},
   "source": [
    "3. Poker"
   ]
  },
  {
   "cell_type": "code",
   "execution_count": 24,
   "metadata": {},
   "outputs": [
    {
     "name": "stdout",
     "output_type": "stream",
     "text": [
      "[26, 18, 37, 19, 20, 36, 14, 42, 39, 17, 0, 11, 8, 43, 22, 6, 48, 45, 3, 33, 38, 23, 30, 28, 15, 51, 29, 34, 49, 21, 32, 1, 50, 10, 27, 4, 13, 7, 35, 41, 40, 44, 31, 25, 9, 46, 24, 2, 47, 5, 16, 12]\n"
     ]
    }
   ],
   "source": [
    "num = random.sample(range(52), 52)\n",
    "print(num)"
   ]
  },
  {
   "cell_type": "markdown",
   "metadata": {},
   "source": [
    "5. MyCalendar"
   ]
  },
  {
   "cell_type": "code",
   "execution_count": 57,
   "metadata": {},
   "outputs": [
    {
     "name": "stdout",
     "output_type": "stream",
     "text": [
      "1\n",
      "True\n",
      "Sun Mon Tue Wed Thu Fri Sat\n",
      "     1   2   3   4   5   6  \n",
      " 7   8   9   10  11  12  13 \n",
      " 14  15  16  17  18  19  20 \n",
      " 21  22  23  24  25  26  27 \n",
      " 28  29  30  31 "
     ]
    }
   ],
   "source": [
    "year = 2000\n",
    "month = 5\n",
    "m = month\n",
    "if m == 1 or m == 2:\n",
    "    year -= 1\n",
    "    m += 12\n",
    "d = 1\n",
    "c = year // 100\n",
    "y = year % 100\n",
    "\n",
    "w = (y + y//4 + c//4 - 2*c + 26*(m+1)//10 + d - 1) % 7\n",
    "w = (w%7 + 7) % 7\n",
    "print(w)\n",
    "\n",
    "days = [31, 28, 31, 30 , 31, 30, 31, 31, 30, 31, 30, 31]\n",
    "leapyear = year % 400 == 0 or (year % 4 == 0 and year % 100 != 0)\n",
    "if leapyear:\n",
    "    days[1] = 29\n",
    "print(leapyear)\n",
    "\n",
    "print(\"Sun Mon Tue Wed Thu Fri Sat\")\n",
    "print(\" \"*(w%7)*4, end=\"\")\n",
    "count = w\n",
    "for i in range(1, days[month-1]+1):\n",
    "    print(f\"{i:^4}\", end=\"\")\n",
    "    count += 1\n",
    "    if count % 7 == 0:\n",
    "        print()"
   ]
  }
 ],
 "metadata": {
  "kernelspec": {
   "display_name": "Python 3",
   "language": "python",
   "name": "python3"
  },
  "language_info": {
   "codemirror_mode": {
    "name": "ipython",
    "version": 3
   },
   "file_extension": ".py",
   "mimetype": "text/x-python",
   "name": "python",
   "nbconvert_exporter": "python",
   "pygments_lexer": "ipython3",
   "version": "3.13.0"
  }
 },
 "nbformat": 4,
 "nbformat_minor": 2
}
