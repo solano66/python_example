{
 "cells": [
  {
   "cell_type": "markdown",
   "metadata": {},
   "source": [
    "##### try...except..."
   ]
  },
  {
   "cell_type": "code",
   "execution_count": 5,
   "metadata": {},
   "outputs": [
    {
     "name": "stdout",
     "output_type": "stream",
     "text": [
      "1\n",
      "發生 Name 錯誤，name 'y' is not defined\n",
      "100\n"
     ]
    }
   ],
   "source": [
    "# 可以連續定義數個例外處理機制\n",
    "# 最符合的例外事件類別會先拋出\n",
    "try:\n",
    "    num_list = [1, 2, 3]\n",
    "    print(num_list[0])\n",
    "    print(y)\n",
    "except IndexError:\n",
    "    print(\"發生 index 錯誤\")\n",
    "except NameError as e:\n",
    "    print(f\"發生 Name 錯誤，{e}\")\n",
    "    y = 100\n",
    "\n",
    "print(y)\n",
    "\n"
   ]
  },
  {
   "cell_type": "markdown",
   "metadata": {},
   "source": [
    "##### try...except...else...finally"
   ]
  },
  {
   "cell_type": "code",
   "execution_count": null,
   "metadata": {},
   "outputs": [
    {
     "name": "stdout",
     "output_type": "stream",
     "text": [
      "x 一開始是: 5\n",
      "沒有例外發生才會執行\n",
      "Finally x:10\n",
      "程式結束\n"
     ]
    }
   ],
   "source": [
    "# 如果沒有錯誤，就會執行 else 程式區塊\n",
    "# finally 程式區塊是無論有無錯誤，都會執行\n",
    "try:\n",
    "    x = 5\n",
    "\n",
    "    print(f\"x 一開始是: {x}\")\n",
    "    # print(z)\n",
    "\n",
    "except NameError:\n",
    "    print(\"變數尚未宣告\")\n",
    "\n",
    "else:\n",
    "    x += 5\n",
    "    print(\"沒有例外發生才會執行\")\n",
    "\n",
    "finally:\n",
    "    print(\"程式結束\")\n",
    "\n"
   ]
  }
 ],
 "metadata": {
  "kernelspec": {
   "display_name": "Python 3",
   "language": "python",
   "name": "python3"
  },
  "language_info": {
   "codemirror_mode": {
    "name": "ipython",
    "version": 3
   },
   "file_extension": ".py",
   "mimetype": "text/x-python",
   "name": "python",
   "nbconvert_exporter": "python",
   "pygments_lexer": "ipython3",
   "version": "3.13.0"
  }
 },
 "nbformat": 4,
 "nbformat_minor": 2
}
