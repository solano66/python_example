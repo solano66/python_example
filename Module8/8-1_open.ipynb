{
 "cells": [
  {
   "cell_type": "markdown",
   "metadata": {},
   "source": [
    "##### `open()` 函式\n",
    "|`\"r\"`|`\"a\"`|`\"w\"`|`\"x\"`|`\"t\"`|`\"b\"`|\n",
    "|:--:|:--:|:--:|:--:|:--:|:--:|\n",
    "|read|append|write|create|text|binary|"
   ]
  },
  {
   "cell_type": "markdown",
   "metadata": {},
   "source": [
    "##### 讀取檔案 read( )"
   ]
  },
  {
   "cell_type": "code",
   "execution_count": null,
   "metadata": {},
   "outputs": [
    {
     "name": "stdout",
     "output_type": "stream",
     "text": [
      "==================================================\n",
      "# 建立第一支 Python 程式\n",
      "\n",
      "# 宣告變數\n",
      "x = 1\n",
      "name = \"Alex\"\n",
      "\n",
      "\n",
      "\n",
      "# 輸出變數\n",
      "print(x)\n",
      "print(name)\n",
      "\n",
      "\n",
      "\n",
      "==================================================\n"
     ]
    }
   ],
   "source": [
    "# 印出 50 個 \"=\"\n",
    "print(\"=\"*50)\n",
    "\n",
    "# 讀取檔案內容 - 常用的寫法 (執行完畢會自動關閉檔案)\n",
    "with open(file=\"../Module2/2-1.py\", mode=\"r\", encoding=\"utf-8\") as f:\n",
    "    doc = f.read()\n",
    "\n",
    "print(doc)\n",
    "\n",
    "# 印出 50 個 \"=\"\n",
    "print(\"=\"*50)"
   ]
  },
  {
   "cell_type": "code",
   "execution_count": 4,
   "metadata": {},
   "outputs": [
    {
     "name": "stdout",
     "output_type": "stream",
     "text": [
      "# 建立第一支 Python 程式\n",
      " AAAA\n",
      " AAAA# 宣告變數\n",
      " AAAAx = 1\n",
      " AAAAname = \"Alex\"\n",
      " AAAA\n",
      " AAAA\n",
      " AAAA\n",
      " AAAA# 輸出變數\n",
      " AAAAprint(x)\n",
      " AAAAprint(name)\n",
      " AAAA\n",
      " AAAA\n",
      " AAAA"
     ]
    }
   ],
   "source": [
    "# 一行一行讀取\n",
    "with open(file=\"../Module2/2-1.py\", mode=\"r\", encoding=\"utf-8\") as f:\n",
    "    for line in f:\n",
    "        print(line, end=\" AAAA\")\n",
    "    \n"
   ]
  },
  {
   "cell_type": "code",
   "execution_count": 13,
   "metadata": {},
   "outputs": [
    {
     "name": "stdout",
     "output_type": "stream",
     "text": [
      "['# 建立第一支 Python 程式\\n', '\\n', '# 宣告變數\\n', 'x = 1\\n', 'name = \"Alex\"\\n', '\\n', '\\n', '\\n', '# 輸出變數\\n', 'print(x)\\n', 'print(name)\\n', '\\n', '\\n']\n",
      "['# 建立第一支 Python 程式\\n', '# 宣告變數\\n', 'x = 1\\n', 'name = \"Alex\"\\n', '# 輸出變數\\n', 'print(x)\\n', 'print(name)\\n']\n",
      "['# 建立第一支 Python 程式', '# 宣告變數', 'x = 1', 'name = \"Alex\"', '# 輸出變數', 'print(x)', 'print(name)']\n"
     ]
    }
   ],
   "source": [
    "# 資料處理\n",
    "with open(file=\"../Module2/2-1.py\", mode=\"r\", encoding=\"utf-8\") as f:\n",
    "    text_list = f.readlines()\n",
    "\n",
    "print(text_list)\n",
    "\n",
    "while '\\n' in text_list:\n",
    "    text_list.remove('\\n')\n",
    "\n",
    "text_without_n_list = [i.strip('\\n') for i in text_list]\n",
    "   \n",
    "print(text_list)\n",
    "print(text_without_n_list)\n"
   ]
  },
  {
   "cell_type": "code",
   "execution_count": null,
   "metadata": {},
   "outputs": [],
   "source": [
    "# 不用 with 的話要記得 close 關閉\n",
    "f = open(file=\"../Module2/2-1.py\", mode=\"r\", encoding=\"utf-8\")\n",
    "data = f.read()\n",
    "print(data)\n",
    "f.close\n"
   ]
  },
  {
   "cell_type": "markdown",
   "metadata": {},
   "source": [
    "##### 寫入檔案 write( )"
   ]
  },
  {
   "cell_type": "code",
   "execution_count": 15,
   "metadata": {},
   "outputs": [],
   "source": [
    "# 文字內容\n",
    "text = '''\n",
    "傑出的人會努力規劃自己的人生，普通的人則是隨便命運怎麼安排   \n",
    "一個是充實、有目的的過每一天，一個是隨興的過一天算一天\n",
    "創業這條路 Michael E.Gerber\n",
    "'''\n",
    "\n",
    "# 寫入檔案\n",
    "with open('file.txt', 'w', encoding=\"utf-8\") as f:\n",
    "    f.write(text)\n",
    "\n",
    "\n"
   ]
  },
  {
   "cell_type": "code",
   "execution_count": 16,
   "metadata": {},
   "outputs": [],
   "source": [
    "# 寫入資料到最後一行 (附加文字在檔案內容最後一行)\n",
    "\n",
    "text = \"People say that success just happens to you. It doesn't!\"\n",
    "with open('file.txt', 'a', encoding=\"utf-8\") as f:\n",
    "    f.write(f\"{text}\\n\")\n",
    "\n"
   ]
  },
  {
   "cell_type": "code",
   "execution_count": null,
   "metadata": {},
   "outputs": [],
   "source": [
    "# 只能 write string ，不能放 list\n",
    "# 讀取出來也是字串\n",
    "list_1_to_100 = [i for i in range(1, 101)]\n",
    "print(list_1_to_100)\n",
    "\n",
    "with open('test.txt', 'w', encoding='utf-8') as f:\n",
    "    f.write(str(list_1_to_100))"
   ]
  }
 ],
 "metadata": {
  "kernelspec": {
   "display_name": "Python 3",
   "language": "python",
   "name": "python3"
  },
  "language_info": {
   "codemirror_mode": {
    "name": "ipython",
    "version": 3
   },
   "file_extension": ".py",
   "mimetype": "text/x-python",
   "name": "python",
   "nbconvert_exporter": "python",
   "pygments_lexer": "ipython3",
   "version": "3.13.0"
  }
 },
 "nbformat": 4,
 "nbformat_minor": 2
}
