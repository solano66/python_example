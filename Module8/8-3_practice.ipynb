{
 "cells": [
  {
   "cell_type": "markdown",
   "metadata": {},
   "source": [
    "##### 將 data.txt 的資料分類成另外三個檔案，分別為 cc.txt 、 css.txt 、 c.txt  "
   ]
  },
  {
   "cell_type": "code",
   "execution_count": null,
   "metadata": {},
   "outputs": [
    {
     "name": "stdout",
     "output_type": "stream",
     "text": [
      "['abc0182.cc', 'abc0102.cc', 'abc0281.cc', 'abc0134.c', 'abc0238.cc', 'abc0244.c', 'abc0157.css', 'abc0116.c', 'abc0245.cc', 'abc0187.cc', 'abc0202.c', 'abc0285.cc', 'abc0220.cc', 'abc0174.css', 'abc0140.c', 'abc0176.c', 'abc0174.css', 'abc0244.css', 'abc0289.css', 'abc0175.c']\n"
     ]
    }
   ],
   "source": [
    "with open(file=\"data.txt\", mode=\"r\", encoding=\"utf-8\") as f:\n",
    "    file_data = f.read()\n",
    "\n",
    "data_list = file_data.split('\\n')\n",
    "print(data_list)\n",
    "\n",
    "cc = []\n",
    "css = []\n",
    "c = []\n",
    "\n",
    "for i in data_list:\n",
    "    if '.cc' in i:\n",
    "        cc.append(i)\n",
    "    elif '.css' in i:\n",
    "        css.append(i)\n",
    "    else:\n",
    "        c.append(i)\n",
    "\n",
    "str_cc = '\\n'.join(cc)\n",
    "str_css = '\\n'.join(css)\n",
    "str_c = '\\n'.join(c)\n",
    "\n",
    "with open('cc.txt', 'w', encoding=\"utf-8\") as f1:\n",
    "    f1.write(str_cc)\n",
    "with open('css.txt', 'w', encoding=\"utf-8\") as f2:\n",
    "    f2.write(str_css)\n",
    "with open('c.txt', 'w', encoding=\"utf-8\") as f3:\n",
    "    f3.write(str_c)"
   ]
  },
  {
   "cell_type": "code",
   "execution_count": null,
   "metadata": {},
   "outputs": [],
   "source": [
    "with open(\"data.txt\", \"r\", encoding=\"utf-8\") as f:\n",
    "    file_data = f.readlines()\n",
    "\n",
    "    data_without_n = []\n",
    "    # for i in file_data:\n",
    "    #     data_without_n.append(i.strip('\\n'))\n",
    "    data_without_n = [i.strip('\\n') for i in file_data]\n",
    "\n",
    "    for data in data_without_n:\n",
    "        if data[-3:] == 'css':\n",
    "            with open(\"css.txt\", 'a') as f:\n",
    "                f.write(data + '\\n')\n",
    "        elif data[-2:] == 'cc':\n",
    "            with open(\"cc.txt\", 'a') as f:\n",
    "                f.write(data + '\\n')\n",
    "        elif data[-1] == 'c':\n",
    "            with open(\"c.txt\", 'a') as f:\n",
    "                f.write(data + '\\n')"
   ]
  }
 ],
 "metadata": {
  "kernelspec": {
   "display_name": "Python 3",
   "language": "python",
   "name": "python3"
  },
  "language_info": {
   "codemirror_mode": {
    "name": "ipython",
    "version": 3
   },
   "file_extension": ".py",
   "mimetype": "text/x-python",
   "name": "python",
   "nbconvert_exporter": "python",
   "pygments_lexer": "ipython3",
   "version": "3.13.0"
  }
 },
 "nbformat": 4,
 "nbformat_minor": 2
}
