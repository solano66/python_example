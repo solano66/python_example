{
 "cells": [
  {
   "cell_type": "code",
   "execution_count": 8,
   "metadata": {},
   "outputs": [
    {
     "name": "stdout",
     "output_type": "stream",
     "text": [
      "{'apple': {'price': 100, 'quantity': 50, 'color': ['greem', 'red']}, 'orange': {'price': 50, 'quantity': 30, 'color': ['orange']}}\n"
     ]
    }
   ],
   "source": [
    "fruit_dict = {    \n",
    "    'apple': {\n",
    "        'price': 100,\n",
    "        'quantity': 50,\n",
    "        'color': ['greem', 'red']\n",
    "    },\n",
    "    'orange': {\n",
    "        'price': 50,\n",
    "        'quantity': 30,\n",
    "        # 'color': 'orange' # 不建議，資料型態盡量統一\n",
    "        'color': ['orange']\n",
    "    }\n",
    "}\n",
    "print(fruit_dict)"
   ]
  },
  {
   "cell_type": "code",
   "execution_count": null,
   "metadata": {},
   "outputs": [
    {
     "name": "stdout",
     "output_type": "stream",
     "text": [
      "apple\n",
      "orange\n"
     ]
    }
   ],
   "source": [
    "# 使用 for 迴圈讀取 dict 資料1 \n",
    "for key in fruit_dict: #只會取得所有key\n",
    "    print(key)"
   ]
  },
  {
   "cell_type": "code",
   "execution_count": null,
   "metadata": {},
   "outputs": [
    {
     "name": "stdout",
     "output_type": "stream",
     "text": [
      "{'price': 100, 'quantity': 50, 'color': ['greem', 'red']}\n",
      "{'price': 50, 'quantity': 30, 'color': ['orange']}\n"
     ]
    }
   ],
   "source": [
    "# 使用 for 迴圈讀取 dict 資料2\n",
    "for info in fruit_dict.values(): #取得所有vlaue\n",
    "    print(info)"
   ]
  },
  {
   "cell_type": "code",
   "execution_count": 6,
   "metadata": {},
   "outputs": [
    {
     "name": "stdout",
     "output_type": "stream",
     "text": [
      "apple\n",
      "{'price': 100, 'quantity': 50, 'color': ['greem', 'red']}\n",
      "orange\n",
      "{'price': 50, 'quantity': 30, 'color': ['orange']}\n"
     ]
    }
   ],
   "source": [
    "# 使用 for 迴圈讀取 dict 資料3\n",
    "for key, value in fruit_dict.items():\n",
    "    print(key)\n",
    "    print(value)"
   ]
  },
  {
   "cell_type": "code",
   "execution_count": 9,
   "metadata": {},
   "outputs": [
    {
     "name": "stdout",
     "output_type": "stream",
     "text": [
      "greem\n",
      "red\n",
      "orange\n"
     ]
    }
   ],
   "source": [
    "for key, value in fruit_dict.items():\n",
    "    # print(key)\n",
    "    # print(value)\n",
    "    for color in value[\"color\"]:\n",
    "        print(color)"
   ]
  },
  {
   "cell_type": "code",
   "execution_count": 10,
   "metadata": {},
   "outputs": [
    {
     "name": "stdout",
     "output_type": "stream",
     "text": [
      "{'apple': {'color': ['greem', 'red'], 'price': 100, 'quantity': 50},\n",
      " 'orange': {'color': ['orange'], 'price': 50, 'quantity': 30}}\n"
     ]
    }
   ],
   "source": [
    "from pprint import pprint\n",
    "pprint(fruit_dict)"
   ]
  },
  {
   "cell_type": "code",
   "execution_count": null,
   "metadata": {},
   "outputs": [
    {
     "name": "stdout",
     "output_type": "stream",
     "text": [
      "None\n",
      "{'price': 100, 'quantity': 50, 'color': ['greem', 'red']}\n"
     ]
    }
   ],
   "source": [
    "# 取得 dict 的 value\n",
    "\n",
    "# print(fruit_dict[\"kiwi\"])\n",
    "print(fruit_dict.get(\"kiwi\"))\n",
    "print(fruit_dict[\"apple\"])\n",
    "# 不確定有沒有用get。一定要的不要用"
   ]
  },
  {
   "cell_type": "code",
   "execution_count": 15,
   "metadata": {},
   "outputs": [],
   "source": [
    "# 資料處理\n",
    "fruit_color_list = [\n",
    "    {'apple': 'red'}, \n",
    "    {'grape': 'purple'}, \n",
    "    {'kiwi': 'yellow'}, \n",
    "    {'apple': 'green'}, \n",
    "    {'kiwi': 'green'}, \n",
    "    {'grape': 'green'}]\n"
   ]
  },
  {
   "cell_type": "code",
   "execution_count": 26,
   "metadata": {},
   "outputs": [
    {
     "name": "stdout",
     "output_type": "stream",
     "text": [
      "apple red\n",
      "grape purple\n",
      "kiwi yellow\n",
      "apple green\n",
      "kiwi green\n",
      "grape green\n",
      "{'apple': ['red', 'green'], 'grape': ['purple', 'green'], 'kiwi': ['yellow', 'green']}\n"
     ]
    }
   ],
   "source": [
    "# 將資料整理成 {'apple': ['red', 'green'], 'grape': ['purple', 'green'], 'kiwi': ['yellow', 'green']}\n",
    "color_dict = {}\n",
    "for fruit_color in fruit_color_list:\n",
    "    for fruit, color in fruit_color.items():\n",
    "        print(fruit, color)\n",
    "\n",
    "        if color_dict.get(fruit) == None:\n",
    "            color_dict[fruit] = [color]\n",
    "        else:\n",
    "            color_dict[fruit].append(color)\n",
    "print(color_dict)\n"
   ]
  },
  {
   "cell_type": "markdown",
   "metadata": {},
   "source": [
    "##### `defaultdict(<type>)`"
   ]
  },
  {
   "cell_type": "code",
   "execution_count": 32,
   "metadata": {},
   "outputs": [
    {
     "name": "stdout",
     "output_type": "stream",
     "text": [
      "defaultdict(<class 'list'>, {'apple': ['red', 'green'], 'grape': ['purple', 'green'], 'kiwi': ['yellow', 'green']})\n"
     ]
    }
   ],
   "source": [
    "from collections import defaultdict\n",
    "# 當訪問的鍵不存在時，可以自動創建鍵和預設值，而不是拋出KeyError。\n",
    "color_dict = defaultdict(list)\n",
    "\n",
    "# print(color_dict[\"apple\"])\n",
    "# print(color_dict)\n",
    "\n",
    "for fruit_dict in fruit_color_list:\n",
    "    for fruit, color in fruit_dict.items():\n",
    "        color_dict[fruit].append(color)\n",
    "\n",
    "print(color_dict)"
   ]
  }
 ],
 "metadata": {
  "kernelspec": {
   "display_name": "Python 3",
   "language": "python",
   "name": "python3"
  },
  "language_info": {
   "codemirror_mode": {
    "name": "ipython",
    "version": 3
   },
   "file_extension": ".py",
   "mimetype": "text/x-python",
   "name": "python",
   "nbconvert_exporter": "python",
   "pygments_lexer": "ipython3",
   "version": "3.13.0"
  }
 },
 "nbformat": 4,
 "nbformat_minor": 2
}
