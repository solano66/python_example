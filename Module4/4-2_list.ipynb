{
 "cells": [
  {
   "cell_type": "code",
   "execution_count": null,
   "metadata": {},
   "outputs": [],
   "source": [
    "# 初始化一個 list\n",
    "num_list = [1, 2, 3]\n",
    "print(num_list)"
   ]
  },
  {
   "cell_type": "code",
   "execution_count": null,
   "metadata": {},
   "outputs": [
    {
     "name": "stdout",
     "output_type": "stream",
     "text": [
      "[1, 2, 3]\n",
      "[1, 2, 3, 100]\n",
      "None\n"
     ]
    }
   ],
   "source": [
    "# 新增元素在 list 尾端\n",
    "num_list = [1, 2, 3]\n",
    "print(num_list)\n",
    "\n",
    "x = num_list.append(100)\n",
    "print(num_list)\n",
    "print(x)\n"
   ]
  },
  {
   "cell_type": "code",
   "execution_count": null,
   "metadata": {},
   "outputs": [
    {
     "name": "stdout",
     "output_type": "stream",
     "text": [
      "5\n"
     ]
    }
   ],
   "source": [
    "# len() 長度\n",
    "num_list = [1, 2, 3, 4 ,5]\n",
    "print(len(num_list))"
   ]
  },
  {
   "cell_type": "code",
   "execution_count": null,
   "metadata": {},
   "outputs": [
    {
     "name": "stdout",
     "output_type": "stream",
     "text": [
      "3\n",
      "[1, 2, 100]\n"
     ]
    }
   ],
   "source": [
    "# 修改索引位置的元素\n",
    "num_list = [1, 2, 3]\n",
    "\n",
    "print(num_list[2])\n",
    "num_list[2] = 100\n",
    "print(num_list)"
   ]
  },
  {
   "cell_type": "code",
   "execution_count": null,
   "metadata": {},
   "outputs": [
    {
     "name": "stdout",
     "output_type": "stream",
     "text": [
      "[1, 2, 3, 4, 100, 5, 6]\n",
      "[1, 2, 3, 4, 5, 6]\n"
     ]
    }
   ],
   "source": [
    "# 刪除索引位置的元素\n",
    "num_list = [1, 2, 3, 4, 100, 5, 6]\n",
    "print(num_list)\n",
    "num_list.pop(4)\n",
    "print(num_list)"
   ]
  },
  {
   "cell_type": "code",
   "execution_count": null,
   "metadata": {},
   "outputs": [
    {
     "name": "stdout",
     "output_type": "stream",
     "text": [
      "[1, 9, 2, 3, 4, 5, 6]\n"
     ]
    }
   ],
   "source": [
    "# 在指定索引 1，新增元素 9 。其餘元素往後移 list.insert(<index>, <new_element>)\n",
    "num_list = [1, 2, 3, 4, 5, 6]\n",
    "\n",
    "num_list.insert(1, 9)\n",
    "print(num_list)"
   ]
  },
  {
   "cell_type": "code",
   "execution_count": 12,
   "metadata": {},
   "outputs": [
    {
     "name": "stdout",
     "output_type": "stream",
     "text": [
      "5\n"
     ]
    }
   ],
   "source": [
    "# 計算 list 內的某個值 共有幾個 list.conut(<element>)\n",
    "num_list = [1, 9, 9, 9, 9, 9, 2, 3, 4, 5, 6]\n",
    "count_9 = num_list.count(9)\n",
    "print(count_9)\n"
   ]
  },
  {
   "cell_type": "code",
   "execution_count": null,
   "metadata": {},
   "outputs": [
    {
     "name": "stdout",
     "output_type": "stream",
     "text": [
      "[1, 9, 9, 9, 9, 2, 3, 4, 5, 6]\n",
      "[1, 2, 3, 4, 5, 6]\n"
     ]
    }
   ],
   "source": [
    "# 移除指定的值 list.remove() ，只會移除一個。沒有時執行會報錯\n",
    "num_list = [1, 9, 9, 9, 9, 9, 2, 3, 4, 5, 6]\n",
    "num_list.remove(9)\n",
    "print(num_list)\n",
    "while 9 in num_list:\n",
    "    num_list.remove(9)\n",
    "print(num_list)"
   ]
  },
  {
   "cell_type": "code",
   "execution_count": null,
   "metadata": {},
   "outputs": [
    {
     "name": "stdout",
     "output_type": "stream",
     "text": [
      "[1, 2, 3, 4, 5, 6]\n",
      "[1, 2, 3, [4, 5, 6]]\n"
     ]
    }
   ],
   "source": [
    "# list合併\n",
    "outside_list = [1, 2, 3]\n",
    "inside_list = [4, 5, 6]\n",
    "list3 = outside_list + inside_list\n",
    "print(list3)\n",
    "\n",
    "outside_list.append(inside_list) #錯誤合併\n",
    "print(outside_list)"
   ]
  },
  {
   "cell_type": "markdown",
   "metadata": {},
   "source": [
    "### list 搭配 for 迴圈"
   ]
  },
  {
   "cell_type": "code",
   "execution_count": 15,
   "metadata": {},
   "outputs": [
    {
     "name": "stdout",
     "output_type": "stream",
     "text": [
      "[1, 2, 3, 4, 5, 6, 7, 8, 9, 10]\n"
     ]
    }
   ],
   "source": [
    "# 建立一個 1~10 的 list\n",
    "num_list = []\n",
    "for i in range(10):\n",
    "    num_list.append(i+1)\n",
    "print(num_list)\n"
   ]
  },
  {
   "cell_type": "code",
   "execution_count": null,
   "metadata": {},
   "outputs": [
    {
     "name": "stdout",
     "output_type": "stream",
     "text": [
      "6\n",
      "num_list 索引位置 7 的值: 8\n"
     ]
    }
   ],
   "source": [
    "cnt = 0\n",
    "for i in num_list:\n",
    "    # print(i, end=\", \")\n",
    "    if i == 7:\n",
    "        print(cnt)\n",
    "        print(f\"num_list 索引位置 {cnt} 的值: {num_list[cnt]}\")\n",
    "    cnt += 1"
   ]
  },
  {
   "cell_type": "code",
   "execution_count": 21,
   "metadata": {},
   "outputs": [
    {
     "name": "stdout",
     "output_type": "stream",
     "text": [
      "(0, 1)\n",
      "(1, 2)\n",
      "(2, 3)\n",
      "(3, 4)\n",
      "(4, 5)\n",
      "(5, 6)\n",
      "(6, 7)\n",
      "(7, 8)\n",
      "(8, 9)\n",
      "(9, 10)\n"
     ]
    }
   ],
   "source": [
    "for x in enumerate(num_list):\n",
    "    print(x)"
   ]
  },
  {
   "cell_type": "code",
   "execution_count": null,
   "metadata": {},
   "outputs": [
    {
     "name": "stdout",
     "output_type": "stream",
     "text": [
      "index: 0, value: 1\n",
      "index: 1, value: 2\n",
      "index: 2, value: 3\n",
      "index: 3, value: 4\n",
      "index: 4, value: 5\n",
      "index: 5, value: 6\n",
      "index: 6, value: 7\n",
      "index: 7, value: 8\n",
      "index: 8, value: 9\n",
      "index: 9, value: 10\n"
     ]
    }
   ],
   "source": [
    "# enumerate() 同時取得 index 與 value。 回傳的是tuple，要用兩個值來接\n",
    "for index, value in enumerate(num_list):\n",
    "    print(f\"index: {index}, value: {value}\")\n"
   ]
  },
  {
   "cell_type": "markdown",
   "metadata": {},
   "source": [
    "### List comprehension 列表推導式\n",
    "`new_list = [expression for item in iterable [if condition]]`  \n",
    "  \n",
    "`list的名稱 = [表達式 for 元素 in 迭代對象 [if 判斷式(...的條件)]]`"
   ]
  },
  {
   "cell_type": "code",
   "execution_count": 32,
   "metadata": {},
   "outputs": [
    {
     "name": "stdout",
     "output_type": "stream",
     "text": [
      "[1, 2, 3, 4, 5, 6, 7, 8, 9, 10]\n",
      "[1, 2, 3, 4, 5, 6, 7, 8, 9, 10]\n"
     ]
    }
   ],
   "source": [
    "num_list = []\n",
    "for i in range(1, 11):\n",
    "    num_list.append(i)\n",
    "print(num_list)\n",
    "\n",
    "num = [i for i in range(1, 11)]\n",
    "print(num_list)"
   ]
  },
  {
   "cell_type": "code",
   "execution_count": 35,
   "metadata": {},
   "outputs": [
    {
     "name": "stdout",
     "output_type": "stream",
     "text": [
      "[2, 4, 6, 8, 10, 12, 14, 16, 18, 20, 22, 24, 26, 28, 30]\n",
      "[2, 4, 6, 8, 10, 12, 14, 16, 18, 20, 22, 24, 26, 28, 30]\n"
     ]
    }
   ],
   "source": [
    "num_list = []\n",
    "for i in range(1, 31):\n",
    "    if i%2 == 0:\n",
    "        num_list.append(i)\n",
    "print(num_list)\n",
    "\n",
    "num_list = [i for i in range(1, 31) if i%2 == 0]\n",
    "print(num_list)"
   ]
  },
  {
   "cell_type": "code",
   "execution_count": null,
   "metadata": {},
   "outputs": [
    {
     "name": "stdout",
     "output_type": "stream",
     "text": [
      "記憶體位置:2250773623616，inside_list:[1]\n",
      "記憶體位置:2250773623616，inside_list:[1, 2]\n",
      "記憶體位置:2250773623616，inside_list:[1, 2, 3]\n",
      "記憶體位置:2250773623616，inside_list:[1, 2, 3, 4]\n",
      "記憶體位置:2250773623616，inside_list:[1, 2, 3, 4, 5]\n",
      "記憶體位置:2250773623616，inside_list:[1, 2, 3, 4, 5, 6]\n",
      "記憶體位置:2250773623616，inside_list:[1, 2, 3, 4, 5, 6, 7]\n",
      "記憶體位置:2250773623616，inside_list:[1, 2, 3, 4, 5, 6, 7, 8]\n",
      "記憶體位置:2250773623616，inside_list:[1, 2, 3, 4, 5, 6, 7, 8, 9]\n",
      "記憶體位置:2250773623616，inside_list:[1, 2, 3, 4, 5, 6, 7, 8, 9, 10]\n",
      "[[1, 2, 3, 4, 5, 6, 7, 8, 9, 10], [1, 2, 3, 4, 5, 6, 7, 8, 9, 10], [1, 2, 3, 4, 5, 6, 7, 8, 9, 10], [1, 2, 3, 4, 5, 6, 7, 8, 9, 10], [1, 2, 3, 4, 5, 6, 7, 8, 9, 10], [1, 2, 3, 4, 5, 6, 7, 8, 9, 10], [1, 2, 3, 4, 5, 6, 7, 8, 9, 10], [1, 2, 3, 4, 5, 6, 7, 8, 9, 10], [1, 2, 3, 4, 5, 6, 7, 8, 9, 10], [1, 2, 3, 4, 5, 6, 7, 8, 9, 10]]\n",
      "[[1], [1, 2], [1, 2, 3], [1, 2, 3, 4], [1, 2, 3, 4, 5], [1, 2, 3, 4, 5, 6], [1, 2, 3, 4, 5, 6, 7], [1, 2, 3, 4, 5, 6, 7, 8], [1, 2, 3, 4, 5, 6, 7, 8, 9], [1, 2, 3, 4, 5, 6, 7, 8, 9, 10]]\n"
     ]
    }
   ],
   "source": [
    "# 建立一個 list 裡面要有持續增長的 list\n",
    "# Ex: [[1], [1, 2], [1, 2, 3]........................[1, 2, 3, 4, 5, 6, 7, 8, 9, 10]]\n",
    "outside_list = []\n",
    "inside_list = []\n",
    "for i in range(1, 11):\n",
    "    inside_list.append(i)\n",
    "    print(f\"記憶體位置:{id(inside_list)}，inside_list:{inside_list}\")\n",
    "    outside_list.append(inside_list)\n",
    "print(outside_list)\n",
    "# 錯誤示範，因為他是放記憶體位置"
   ]
  },
  {
   "cell_type": "code",
   "execution_count": null,
   "metadata": {},
   "outputs": [
    {
     "name": "stdout",
     "output_type": "stream",
     "text": [
      "[[1], [1, 2], [1, 2, 3], [1, 2, 3, 4], [1, 2, 3, 4, 5], [1, 2, 3, 4, 5, 6], [1, 2, 3, 4, 5, 6, 7], [1, 2, 3, 4, 5, 6, 7, 8], [1, 2, 3, 4, 5, 6, 7, 8, 9], [1, 2, 3, 4, 5, 6, 7, 8, 9, 10]]\n"
     ]
    }
   ],
   "source": [
    "# copy可以解決記憶體問題\n",
    "outside_list = []\n",
    "inside_list = []\n",
    "for i in range(1, 11):\n",
    "    inside_list.append(i)\n",
    "    # print(f\"記憶體位置:{id(inside_list)}，inside_list:{inside_list}\")\n",
    "    outside_list.append(inside_list.copy())\n",
    "print(outside_list)"
   ]
  },
  {
   "cell_type": "code",
   "execution_count": 52,
   "metadata": {},
   "outputs": [
    {
     "name": "stdout",
     "output_type": "stream",
     "text": [
      "[[1], [1, 2], [1, 2, 3], [1, 2, 3, 4], [1, 2, 3, 4, 5], [1, 2, 3, 4, 5, 6], [1, 2, 3, 4, 5, 6, 7], [1, 2, 3, 4, 5, 6, 7, 8], [1, 2, 3, 4, 5, 6, 7, 8, 9], [1, 2, 3, 4, 5, 6, 7, 8, 9, 10]]\n"
     ]
    }
   ],
   "source": [
    "outside_list = []\n",
    "for i in range(1, 11):\n",
    "\n",
    "    inside_list = []\n",
    "    for i in range(1, i+1):\n",
    "        inside_list.append(i)\n",
    "    \n",
    "    outside_list.append(inside_list)\n",
    "    \n",
    "print(outside_list)"
   ]
  },
  {
   "cell_type": "code",
   "execution_count": null,
   "metadata": {},
   "outputs": [],
   "source": [
    "# 改成List comprehension step1\n",
    "outside_list = []\n",
    "for i in range(1, 11):\n",
    "\n",
    "    # inside_list = []\n",
    "    # for i in range(1, i+1):\n",
    "    #     inside_list.append(i)\n",
    "    inside_list = [i for i in range(1, i+1)]\n",
    "    \n",
    "    outside_list.append(inside_list)\n",
    "    \n",
    "print(outside_list)"
   ]
  },
  {
   "cell_type": "code",
   "execution_count": null,
   "metadata": {},
   "outputs": [],
   "source": [
    "# 改成List comprehension step2\n",
    "outside_list = []\n",
    "for i in range(1, 11):\n",
    "\n",
    "    # inside_list = []\n",
    "    # for i in range(1, i+1):\n",
    "    #     inside_list.append(i)\n",
    "    # inside_list = [i for i in range(1, i+1)]\n",
    "    \n",
    "    outside_list.append(inside_list = [i for i in range(1, i+1)])\n",
    "    \n",
    "print(outside_list)"
   ]
  },
  {
   "cell_type": "code",
   "execution_count": 57,
   "metadata": {},
   "outputs": [
    {
     "name": "stdout",
     "output_type": "stream",
     "text": [
      "[[1], [1, 2], [1, 2, 3], [1, 2, 3, 4], [1, 2, 3, 4, 5], [1, 2, 3, 4, 5, 6], [1, 2, 3, 4, 5, 6, 7], [1, 2, 3, 4, 5, 6, 7, 8], [1, 2, 3, 4, 5, 6, 7, 8, 9], [1, 2, 3, 4, 5, 6, 7, 8, 9, 10]]\n"
     ]
    }
   ],
   "source": [
    "# 改成List comprehension step3\n",
    "outside_list = [[i for i in range(1, i+1)] for i in range(1, 11)]\n",
    "print(outside_list)"
   ]
  },
  {
   "cell_type": "code",
   "execution_count": null,
   "metadata": {},
   "outputs": [],
   "source": [
    "greeting = \"hello world! hello John\"\n",
    "str_list = greeting.split(' ')\n",
    "\n",
    "print(str_list)\n",
    "\n",
    "result = ' '.join(str_list)\n",
    "print(result)"
   ]
  }
 ],
 "metadata": {
  "kernelspec": {
   "display_name": "Python 3",
   "language": "python",
   "name": "python3"
  },
  "language_info": {
   "codemirror_mode": {
    "name": "ipython",
    "version": 3
   },
   "file_extension": ".py",
   "mimetype": "text/x-python",
   "name": "python",
   "nbconvert_exporter": "python",
   "pygments_lexer": "ipython3",
   "version": "3.13.0"
  }
 },
 "nbformat": 4,
 "nbformat_minor": 2
}
